{
 "cells": [
  {
   "cell_type": "code",
   "execution_count": 1,
   "metadata": {},
   "outputs": [],
   "source": [
    "import pandas\n",
    "import numpy\n",
    "from matplotlib import pyplot as plt"
   ]
  },
  {
   "cell_type": "code",
   "execution_count": 3,
   "metadata": {},
   "outputs": [],
   "source": [
    "data_train = pandas.read_csv(r'/home/niubuzhi/Documents/ml/stock-price/NSE-TATAGLOBAL.txt')"
   ]
  },
  {
   "cell_type": "code",
   "execution_count": 4,
   "metadata": {},
   "outputs": [
    {
     "data": {
      "text/html": [
       "<div>\n",
       "<style scoped>\n",
       "    .dataframe tbody tr th:only-of-type {\n",
       "        vertical-align: middle;\n",
       "    }\n",
       "\n",
       "    .dataframe tbody tr th {\n",
       "        vertical-align: top;\n",
       "    }\n",
       "\n",
       "    .dataframe thead th {\n",
       "        text-align: right;\n",
       "    }\n",
       "</style>\n",
       "<table border=\"1\" class=\"dataframe\">\n",
       "  <thead>\n",
       "    <tr style=\"text-align: right;\">\n",
       "      <th></th>\n",
       "      <th>Date</th>\n",
       "      <th>Open</th>\n",
       "      <th>High</th>\n",
       "      <th>Low</th>\n",
       "      <th>Last</th>\n",
       "      <th>Close</th>\n",
       "      <th>Total Trade Quantity</th>\n",
       "      <th>Turnover (Lacs)</th>\n",
       "    </tr>\n",
       "  </thead>\n",
       "  <tbody>\n",
       "    <tr>\n",
       "      <th>0</th>\n",
       "      <td>2018-09-28</td>\n",
       "      <td>234.05</td>\n",
       "      <td>235.95</td>\n",
       "      <td>230.2</td>\n",
       "      <td>233.5</td>\n",
       "      <td>233.75</td>\n",
       "      <td>3069914</td>\n",
       "      <td>7162.35</td>\n",
       "    </tr>\n",
       "    <tr>\n",
       "      <th>1</th>\n",
       "      <td>2018-09-27</td>\n",
       "      <td>234.55</td>\n",
       "      <td>236.80</td>\n",
       "      <td>231.1</td>\n",
       "      <td>233.8</td>\n",
       "      <td>233.25</td>\n",
       "      <td>5082859</td>\n",
       "      <td>11859.95</td>\n",
       "    </tr>\n",
       "  </tbody>\n",
       "</table>\n",
       "</div>"
      ],
      "text/plain": [
       "         Date    Open    High    Low   Last   Close  Total Trade Quantity  \\\n",
       "0  2018-09-28  234.05  235.95  230.2  233.5  233.75               3069914   \n",
       "1  2018-09-27  234.55  236.80  231.1  233.8  233.25               5082859   \n",
       "\n",
       "   Turnover (Lacs)  \n",
       "0          7162.35  \n",
       "1         11859.95  "
      ]
     },
     "execution_count": 4,
     "metadata": {},
     "output_type": "execute_result"
    }
   ],
   "source": [
    "data_train.head(2)"
   ]
  },
  {
   "cell_type": "code",
   "execution_count": 6,
   "metadata": {},
   "outputs": [],
   "source": [
    "training_set = data_train.iloc[:, 1:2].values"
   ]
  },
  {
   "cell_type": "code",
   "execution_count": 23,
   "metadata": {},
   "outputs": [
    {
     "data": {
      "text/plain": [
       "array([[234.05],\n",
       "       [234.55]])"
      ]
     },
     "execution_count": 23,
     "metadata": {},
     "output_type": "execute_result"
    }
   ],
   "source": [
    "training_set[:2]"
   ]
  },
  {
   "cell_type": "markdown",
   "metadata": {},
   "source": [
    "### Scale data into range (0,1) for better performance in deep learning"
   ]
  },
  {
   "cell_type": "code",
   "execution_count": 7,
   "metadata": {},
   "outputs": [],
   "source": [
    "from sklearn.preprocessing import MinMaxScaler"
   ]
  },
  {
   "cell_type": "code",
   "execution_count": 8,
   "metadata": {},
   "outputs": [],
   "source": [
    "sc = MinMaxScaler(feature_range = (0, 1))\n",
    "training_set_scaled = sc.fit_transform(training_set)"
   ]
  },
  {
   "cell_type": "markdown",
   "metadata": {},
   "source": [
    "### Step size is set to be 60"
   ]
  },
  {
   "cell_type": "code",
   "execution_count": 9,
   "metadata": {},
   "outputs": [],
   "source": [
    "np_train = numpy.array(training_set_scaled)\n",
    "step_size = 60\n",
    "\n",
    "X_train = numpy.array([np_train[i:i+60, 0] for i in range(len(np_train) - step_size)])\n",
    "y_train = np_train[60:, 0]\n",
    "\n",
    "assert len(X_train) == len(y_train)"
   ]
  },
  {
   "cell_type": "markdown",
   "metadata": {},
   "source": [
    "#### * Convert X_train to 3D"
   ]
  },
  {
   "cell_type": "code",
   "execution_count": 10,
   "metadata": {},
   "outputs": [
    {
     "name": "stdout",
     "output_type": "stream",
     "text": [
      "(1975, 60)\n"
     ]
    }
   ],
   "source": [
    "print(X_train.shape)"
   ]
  },
  {
   "cell_type": "code",
   "execution_count": 12,
   "metadata": {},
   "outputs": [],
   "source": [
    "X_train = numpy.reshape(X_train, (X_train.shape[0], X_train.shape[1], 1))"
   ]
  },
  {
   "cell_type": "code",
   "execution_count": 18,
   "metadata": {},
   "outputs": [
    {
     "data": {
      "text/plain": [
       "(1975, 60, 1)"
      ]
     },
     "execution_count": 18,
     "metadata": {},
     "output_type": "execute_result"
    }
   ],
   "source": [
    "X_train.shape"
   ]
  },
  {
   "cell_type": "markdown",
   "metadata": {},
   "source": [
    "### Construct LSTM"
   ]
  },
  {
   "cell_type": "code",
   "execution_count": 17,
   "metadata": {},
   "outputs": [],
   "source": [
    "from keras.models import Sequential\n",
    "from keras.layers import Dense\n",
    "from keras.layers import LSTM\n",
    "from keras.layers import Dropout"
   ]
  },
  {
   "cell_type": "code",
   "execution_count": 19,
   "metadata": {},
   "outputs": [
    {
     "name": "stdout",
     "output_type": "stream",
     "text": [
      "Epoch 1/100\n",
      "1975/1975 [==============================] - 8s 4ms/step - loss: 0.0111\n",
      "Epoch 2/100\n",
      "1975/1975 [==============================] - 5s 3ms/step - loss: 0.0032\n",
      "Epoch 3/100\n",
      "1975/1975 [==============================] - 5s 3ms/step - loss: 0.0025\n",
      "Epoch 4/100\n",
      "1975/1975 [==============================] - 5s 3ms/step - loss: 0.0026\n",
      "Epoch 5/100\n",
      "1975/1975 [==============================] - 5s 3ms/step - loss: 0.0022\n",
      "Epoch 6/100\n",
      "1975/1975 [==============================] - 5s 3ms/step - loss: 0.0025\n",
      "Epoch 7/100\n",
      "1975/1975 [==============================] - 5s 3ms/step - loss: 0.0021\n",
      "Epoch 8/100\n",
      "1975/1975 [==============================] - 5s 3ms/step - loss: 0.0019\n",
      "Epoch 9/100\n",
      "1975/1975 [==============================] - 5s 3ms/step - loss: 0.0020\n",
      "Epoch 10/100\n",
      "1975/1975 [==============================] - 5s 3ms/step - loss: 0.0022\n",
      "Epoch 11/100\n",
      "1975/1975 [==============================] - 6s 3ms/step - loss: 0.0018\n",
      "Epoch 12/100\n",
      "1975/1975 [==============================] - 6s 3ms/step - loss: 0.0017\n",
      "Epoch 13/100\n",
      "1975/1975 [==============================] - 6s 3ms/step - loss: 0.0016\n",
      "Epoch 14/100\n",
      "1975/1975 [==============================] - 6s 3ms/step - loss: 0.0016\n",
      "Epoch 15/100\n",
      "1975/1975 [==============================] - 6s 3ms/step - loss: 0.0013\n",
      "Epoch 16/100\n",
      "1975/1975 [==============================] - 6s 3ms/step - loss: 0.0015\n",
      "Epoch 17/100\n",
      "1975/1975 [==============================] - 6s 3ms/step - loss: 0.0017\n",
      "Epoch 18/100\n",
      "1975/1975 [==============================] - 6s 3ms/step - loss: 0.0016\n",
      "Epoch 19/100\n",
      "1975/1975 [==============================] - 6s 3ms/step - loss: 0.0014\n",
      "Epoch 20/100\n",
      "1975/1975 [==============================] - 7s 3ms/step - loss: 0.0013\n",
      "Epoch 21/100\n",
      "1975/1975 [==============================] - 8s 4ms/step - loss: 0.0013\n",
      "Epoch 22/100\n",
      "1975/1975 [==============================] - 6s 3ms/step - loss: 0.0012\n",
      "Epoch 23/100\n",
      "1975/1975 [==============================] - 6s 3ms/step - loss: 0.0013\n",
      "Epoch 24/100\n",
      "1975/1975 [==============================] - 6s 3ms/step - loss: 0.0012\n",
      "Epoch 25/100\n",
      "1975/1975 [==============================] - 6s 3ms/step - loss: 0.0011\n",
      "Epoch 26/100\n",
      "1975/1975 [==============================] - 6s 3ms/step - loss: 0.0012\n",
      "Epoch 27/100\n",
      "1975/1975 [==============================] - 6s 3ms/step - loss: 0.0011\n",
      "Epoch 28/100\n",
      "1975/1975 [==============================] - 6s 3ms/step - loss: 0.0013\n",
      "Epoch 29/100\n",
      "1975/1975 [==============================] - 6s 3ms/step - loss: 0.0012\n",
      "Epoch 30/100\n",
      "1975/1975 [==============================] - 6s 3ms/step - loss: 0.0014\n",
      "Epoch 31/100\n",
      "1975/1975 [==============================] - 6s 3ms/step - loss: 0.0010\n",
      "Epoch 32/100\n",
      "1975/1975 [==============================] - 6s 3ms/step - loss: 0.0010\n",
      "Epoch 33/100\n",
      "1975/1975 [==============================] - 6s 3ms/step - loss: 0.0010\n",
      "Epoch 34/100\n",
      "1975/1975 [==============================] - 6s 3ms/step - loss: 9.8425e-04\n",
      "Epoch 35/100\n",
      "1975/1975 [==============================] - 6s 3ms/step - loss: 9.0646e-04\n",
      "Epoch 36/100\n",
      "1975/1975 [==============================] - 6s 3ms/step - loss: 8.3961e-04\n",
      "Epoch 37/100\n",
      "1975/1975 [==============================] - 6s 3ms/step - loss: 9.3725e-04\n",
      "Epoch 38/100\n",
      "1975/1975 [==============================] - 6s 3ms/step - loss: 8.6809e-04\n",
      "Epoch 39/100\n",
      "1975/1975 [==============================] - 6s 3ms/step - loss: 9.7832e-04\n",
      "Epoch 40/100\n",
      "1975/1975 [==============================] - 6s 3ms/step - loss: 9.3236e-04\n",
      "Epoch 41/100\n",
      "1975/1975 [==============================] - 6s 3ms/step - loss: 9.4746e-04\n",
      "Epoch 42/100\n",
      "1975/1975 [==============================] - 6s 3ms/step - loss: 8.9179e-04\n",
      "Epoch 43/100\n",
      "1975/1975 [==============================] - 6s 3ms/step - loss: 8.9503e-04\n",
      "Epoch 44/100\n",
      "1975/1975 [==============================] - 6s 3ms/step - loss: 9.0694e-04\n",
      "Epoch 45/100\n",
      "1975/1975 [==============================] - 6s 3ms/step - loss: 9.3099e-04\n",
      "Epoch 46/100\n",
      "1975/1975 [==============================] - 6s 3ms/step - loss: 8.1446e-04\n",
      "Epoch 47/100\n",
      "1975/1975 [==============================] - 6s 3ms/step - loss: 8.4520e-04\n",
      "Epoch 48/100\n",
      "1975/1975 [==============================] - 6s 3ms/step - loss: 9.6290e-04\n",
      "Epoch 49/100\n",
      "1975/1975 [==============================] - 6s 3ms/step - loss: 8.9626e-04\n",
      "Epoch 50/100\n",
      "1975/1975 [==============================] - 6s 3ms/step - loss: 8.7981e-04\n",
      "Epoch 51/100\n",
      "1975/1975 [==============================] - 6s 3ms/step - loss: 7.7837e-04\n",
      "Epoch 52/100\n",
      "1975/1975 [==============================] - 6s 3ms/step - loss: 8.5257e-04\n",
      "Epoch 53/100\n",
      "1975/1975 [==============================] - 6s 3ms/step - loss: 8.3210e-04\n",
      "Epoch 54/100\n",
      "1975/1975 [==============================] - 6s 3ms/step - loss: 8.6559e-04\n",
      "Epoch 55/100\n",
      "1975/1975 [==============================] - 6s 3ms/step - loss: 7.3205e-04\n",
      "Epoch 56/100\n",
      "1975/1975 [==============================] - 6s 3ms/step - loss: 7.3908e-04\n",
      "Epoch 57/100\n",
      "1975/1975 [==============================] - 6s 3ms/step - loss: 8.6813e-04\n",
      "Epoch 58/100\n",
      "1975/1975 [==============================] - 6s 3ms/step - loss: 9.0468e-04\n",
      "Epoch 59/100\n",
      "1975/1975 [==============================] - 6s 3ms/step - loss: 7.6995e-04\n",
      "Epoch 60/100\n",
      "1975/1975 [==============================] - 6s 3ms/step - loss: 7.9218e-04\n",
      "Epoch 61/100\n",
      "1975/1975 [==============================] - 6s 3ms/step - loss: 7.1681e-04\n",
      "Epoch 62/100\n",
      "1975/1975 [==============================] - 6s 3ms/step - loss: 8.0835e-04\n",
      "Epoch 63/100\n",
      "1975/1975 [==============================] - 6s 3ms/step - loss: 6.7414e-04\n",
      "Epoch 64/100\n",
      "1975/1975 [==============================] - 6s 3ms/step - loss: 7.3315e-04\n",
      "Epoch 65/100\n",
      "1975/1975 [==============================] - 6s 3ms/step - loss: 7.5867e-04\n",
      "Epoch 66/100\n",
      "1975/1975 [==============================] - 6s 3ms/step - loss: 7.2096e-04\n",
      "Epoch 67/100\n",
      "1975/1975 [==============================] - 6s 3ms/step - loss: 7.1582e-04\n",
      "Epoch 68/100\n",
      "1975/1975 [==============================] - 6s 3ms/step - loss: 6.1094e-04\n",
      "Epoch 69/100\n",
      "1975/1975 [==============================] - 6s 3ms/step - loss: 7.5265e-04\n",
      "Epoch 70/100\n",
      "1975/1975 [==============================] - 6s 3ms/step - loss: 7.4292e-04\n",
      "Epoch 71/100\n",
      "1975/1975 [==============================] - 6s 3ms/step - loss: 6.5639e-04\n",
      "Epoch 72/100\n",
      "1975/1975 [==============================] - 6s 3ms/step - loss: 6.0057e-04\n",
      "Epoch 73/100\n",
      "1975/1975 [==============================] - 6s 3ms/step - loss: 6.7248e-04\n",
      "Epoch 74/100\n",
      "1975/1975 [==============================] - 6s 3ms/step - loss: 5.9767e-04\n",
      "Epoch 75/100\n",
      "1975/1975 [==============================] - 6s 3ms/step - loss: 7.2628e-04\n",
      "Epoch 76/100\n",
      "1975/1975 [==============================] - 6s 3ms/step - loss: 6.8438e-04\n",
      "Epoch 77/100\n",
      "1975/1975 [==============================] - 6s 3ms/step - loss: 6.3124e-04\n",
      "Epoch 78/100\n",
      "1975/1975 [==============================] - 6s 3ms/step - loss: 6.7003e-04\n",
      "Epoch 79/100\n",
      "1975/1975 [==============================] - 6s 3ms/step - loss: 7.5932e-04\n",
      "Epoch 80/100\n",
      "1975/1975 [==============================] - 6s 3ms/step - loss: 7.6972e-04\n",
      "Epoch 81/100\n",
      "1975/1975 [==============================] - 6s 3ms/step - loss: 7.1947e-04\n",
      "Epoch 82/100\n",
      "1975/1975 [==============================] - 6s 3ms/step - loss: 6.8982e-04\n",
      "Epoch 83/100\n",
      "1975/1975 [==============================] - 6s 3ms/step - loss: 6.0052e-04\n",
      "Epoch 84/100\n",
      "1975/1975 [==============================] - 6s 3ms/step - loss: 7.6707e-04\n",
      "Epoch 85/100\n",
      "1975/1975 [==============================] - 6s 3ms/step - loss: 6.4199e-04\n",
      "Epoch 86/100\n",
      "1975/1975 [==============================] - 6s 3ms/step - loss: 7.3222e-04\n",
      "Epoch 87/100\n",
      "1975/1975 [==============================] - 6s 3ms/step - loss: 7.8082e-04\n",
      "Epoch 88/100\n",
      "1975/1975 [==============================] - 6s 3ms/step - loss: 7.0133e-04\n",
      "Epoch 89/100\n",
      "1975/1975 [==============================] - 6s 3ms/step - loss: 7.8702e-04\n",
      "Epoch 90/100\n",
      "1975/1975 [==============================] - 6s 3ms/step - loss: 6.7027e-04\n",
      "Epoch 91/100\n",
      "1975/1975 [==============================] - 6s 3ms/step - loss: 6.2379e-04\n",
      "Epoch 92/100\n",
      "1975/1975 [==============================] - 6s 3ms/step - loss: 5.8277e-04\n",
      "Epoch 93/100\n",
      "1975/1975 [==============================] - 6s 3ms/step - loss: 6.6293e-04\n",
      "Epoch 94/100\n"
     ]
    },
    {
     "name": "stdout",
     "output_type": "stream",
     "text": [
      "1975/1975 [==============================] - 6s 3ms/step - loss: 6.6049e-04\n",
      "Epoch 95/100\n",
      "1975/1975 [==============================] - 6s 3ms/step - loss: 7.7887e-04\n",
      "Epoch 96/100\n",
      "1975/1975 [==============================] - 6s 3ms/step - loss: 6.1969e-04\n",
      "Epoch 97/100\n",
      "1975/1975 [==============================] - 5s 3ms/step - loss: 5.6095e-04\n",
      "Epoch 98/100\n",
      "1975/1975 [==============================] - 5s 3ms/step - loss: 5.9018e-04\n",
      "Epoch 99/100\n",
      "1975/1975 [==============================] - 5s 3ms/step - loss: 5.5365e-04\n",
      "Epoch 100/100\n",
      "1975/1975 [==============================] - 5s 3ms/step - loss: 5.5791e-04\n"
     ]
    },
    {
     "data": {
      "text/plain": [
       "<keras.callbacks.callbacks.History at 0x7f0ec8204ef0>"
      ]
     },
     "execution_count": 19,
     "metadata": {},
     "output_type": "execute_result"
    }
   ],
   "source": [
    "regressor = Sequential()\n",
    "\n",
    "regressor.add(LSTM(units = 50, return_sequences = True, input_shape = (X_train.shape[1], X_train.shape[2])))\n",
    "regressor.add(Dropout(0.2))\n",
    "\n",
    "regressor.add(LSTM(units = 50, return_sequences = True))\n",
    "regressor.add(Dropout(0.2))\n",
    "\n",
    "regressor.add(LSTM(units = 50, return_sequences = True))\n",
    "regressor.add(Dropout(0.2))\n",
    "\n",
    "regressor.add(LSTM(units = 50))\n",
    "regressor.add(Dropout(0.2))\n",
    "\n",
    "regressor.add(Dense(units = 1))\n",
    "\n",
    "regressor.compile(loss = 'mean_squared_error', optimizer = 'adam')\n",
    "\n",
    "regressor.fit(X_train, y_train, epochs = 100, batch_size = 32)"
   ]
  },
  {
   "cell_type": "markdown",
   "metadata": {},
   "source": [
    "### Now we apply the model to the test dataset"
   ]
  },
  {
   "cell_type": "code",
   "execution_count": 20,
   "metadata": {},
   "outputs": [],
   "source": [
    "data_test = pandas.read_csv(r'/home/niubuzhi/Documents/ml/stock-price/tatatest.txt')"
   ]
  },
  {
   "cell_type": "code",
   "execution_count": 21,
   "metadata": {},
   "outputs": [],
   "source": [
    "real_stock_price = data_test.iloc[:, 1:2].values"
   ]
  },
  {
   "cell_type": "code",
   "execution_count": 22,
   "metadata": {},
   "outputs": [
    {
     "data": {
      "text/plain": [
       "array([[220.1],\n",
       "       [221.1]])"
      ]
     },
     "execution_count": 22,
     "metadata": {},
     "output_type": "execute_result"
    }
   ],
   "source": [
    "real_stock_price[:2]"
   ]
  },
  {
   "cell_type": "code",
   "execution_count": 24,
   "metadata": {},
   "outputs": [],
   "source": [
    "data_total = pandas.concat([data_train['Open'], data_test['Open']], axis = 0)"
   ]
  },
  {
   "cell_type": "code",
   "execution_count": 25,
   "metadata": {},
   "outputs": [],
   "source": [
    "inputs = data_total[len(data_train) - step_size:].values"
   ]
  },
  {
   "cell_type": "code",
   "execution_count": 29,
   "metadata": {},
   "outputs": [],
   "source": [
    "inputs = inputs.reshape(-1, 1)"
   ]
  },
  {
   "cell_type": "code",
   "execution_count": 45,
   "metadata": {},
   "outputs": [],
   "source": [
    "inputs = sc.transform(inputs)"
   ]
  },
  {
   "cell_type": "code",
   "execution_count": 46,
   "metadata": {},
   "outputs": [],
   "source": [
    "X_test = []\n",
    "for i in range(step_size, len(inputs)):\n",
    "    X_test.append( inputs[i - step_size : i, 0] )"
   ]
  },
  {
   "cell_type": "code",
   "execution_count": 47,
   "metadata": {},
   "outputs": [],
   "source": [
    "X_test = numpy.array(X_test)"
   ]
  },
  {
   "cell_type": "code",
   "execution_count": 48,
   "metadata": {},
   "outputs": [
    {
     "data": {
      "text/plain": [
       "(16, 60)"
      ]
     },
     "execution_count": 48,
     "metadata": {},
     "output_type": "execute_result"
    }
   ],
   "source": [
    "X_test.shape"
   ]
  },
  {
   "cell_type": "code",
   "execution_count": 49,
   "metadata": {},
   "outputs": [],
   "source": [
    "X_test = numpy.reshape(X_test, (X_test.shape[0], X_test.shape[1], 1))"
   ]
  },
  {
   "cell_type": "code",
   "execution_count": 50,
   "metadata": {},
   "outputs": [
    {
     "data": {
      "text/plain": [
       "(16, 60, 1)"
      ]
     },
     "execution_count": 50,
     "metadata": {},
     "output_type": "execute_result"
    }
   ],
   "source": [
    "X_test.shape"
   ]
  },
  {
   "cell_type": "markdown",
   "metadata": {},
   "source": [
    "### Now pedict the stock price"
   ]
  },
  {
   "cell_type": "code",
   "execution_count": 51,
   "metadata": {},
   "outputs": [],
   "source": [
    "predicted_stock_price = sc.inverse_transform( regressor.predict(X_test) )"
   ]
  },
  {
   "cell_type": "markdown",
   "metadata": {},
   "source": [
    "### Visualize the comparison between real and predicted stock prices"
   ]
  },
  {
   "cell_type": "code",
   "execution_count": 52,
   "metadata": {},
   "outputs": [
    {
     "data": {
      "image/png": "[encoded data removed]",
      "text/plain": [
       "<Figure size 432x288 with 1 Axes>"
      ]
     },
     "metadata": {
      "needs_background": "light"
     },
     "output_type": "display_data"
    }
   ],
   "source": [
    "plt.plot(real_stock_price, color = 'black', label = 'Real TATA Stock Price')\n",
    "plt.plot(predicted_stock_price, color = 'green', label = 'Predicted TATA Stock Price')\n",
    "plt.title('TATA Stock Price Prediction')\n",
    "plt.xlabel('Time')\n",
    "plt.ylabel('TATA Stock Price')\n",
    "plt.legend()\n",
    "plt.show()"
   ]
  },
  {
   "cell_type": "code",
   "execution_count": null,
   "metadata": {},
   "outputs": [],
   "source": []
  }
 ],
 "metadata": {
  "kernelspec": {
   "display_name": "Python 3",
   "language": "python",
   "name": "python3"
  },
  "language_info": {
   "codemirror_mode": {
    "name": "ipython",
    "version": 3
   },
   "file_extension": ".py",
   "mimetype": "text/x-python",
   "name": "python",
   "nbconvert_exporter": "python",
   "pygments_lexer": "ipython3",
   "version": "3.6.9"
  }
 },
 "nbformat": 4,
 "nbformat_minor": 4
}
