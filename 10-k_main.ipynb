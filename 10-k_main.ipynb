{
 "cells": [
  {
   "cell_type": "code",
   "execution_count": 1,
   "metadata": {},
   "outputs": [
    {
     "name": "stderr",
     "output_type": "stream",
     "text": [
      "[nltk_data] Downloading package stopwords to\n",
      "[nltk_data]     /home/niubuzhi/nltk_data...\n",
      "[nltk_data]   Package stopwords is already up-to-date!\n",
      "[nltk_data] Downloading package wordnet to /home/niubuzhi/nltk_data...\n",
      "[nltk_data]   Package wordnet is already up-to-date!\n"
     ]
    },
    {
     "data": {
      "text/plain": [
       "True"
      ]
     },
     "execution_count": 1,
     "metadata": {},
     "output_type": "execute_result"
    }
   ],
   "source": [
    "import nltk\n",
    "\n",
    "nltk.download('stopwords')\n",
    "nltk.download('wordnet')"
   ]
  },
  {
   "cell_type": "code",
   "execution_count": 2,
   "metadata": {},
   "outputs": [],
   "source": [
    "cik_lookup = {\n",
    "    'AMZN': '0001018724',\n",
    "    'BMY': '0000014272',\n",
    "    'CNP': '0001130310',\n",
    "    'CVX': '0000093410',\n",
    "    'FL': '0000850209',\n",
    "    'FRT': '0000034903',\n",
    "    'HON': '0000773840'}"
   ]
  },
  {
   "cell_type": "code",
   "execution_count": 3,
   "metadata": {},
   "outputs": [],
   "source": [
    "from bs4 import BeautifulSoup"
   ]
  },
  {
   "cell_type": "code",
   "execution_count": 4,
   "metadata": {},
   "outputs": [],
   "source": [
    "from project_helper import *"
   ]
  },
  {
   "cell_type": "code",
   "execution_count": 5,
   "metadata": {},
   "outputs": [],
   "source": [
    "sec_api = SecAPI()\n",
    "def get_sec_data(cik, doc_type, start = 0, count = 60):\n",
    "    rss_url = 'https://www.sec.gov/cgi-bin/browse-edgar?action=getcompany' \\\n",
    "        '&CIK={}&type={}&start={}&count={}&owner=exclude&output=atom' \\\n",
    "        .format(cik, doc_type, start, count)\n",
    "    sec_data = sec_api.get(rss_url)\n",
    "    feed = BeautifulSoup(sec_data.encode('ascii'), 'xml').feed\n",
    "    return [ (\n",
    "        entry.content.find('filing-href').getText(),\n",
    "        entry.content.find('filing-type').getText(),\n",
    "        entry.content.find('filing-date').getText()\n",
    "    ) for entry in feed.find_all('entry', recursive = False)]"
   ]
  },
  {
   "cell_type": "code",
   "execution_count": 6,
   "metadata": {},
   "outputs": [],
   "source": [
    "import pprint"
   ]
  },
  {
   "cell_type": "code",
   "execution_count": 7,
   "metadata": {},
   "outputs": [
    {
     "name": "stdout",
     "output_type": "stream",
     "text": [
      "[('https://www.sec.gov/Archives/edgar/data/1018724/000101872420000004/0001018724-20-000004-index.htm',\n",
      "  '10-K',\n",
      "  '2020-01-31'),\n",
      " ('https://www.sec.gov/Archives/edgar/data/1018724/000101872419000004/0001018724-19-000004-index.htm',\n",
      "  '10-K',\n",
      "  '2019-02-01'),\n",
      " ('https://www.sec.gov/Archives/edgar/data/1018724/000101872418000005/0001018724-18-000005-index.htm',\n",
      "  '10-K',\n",
      "  '2018-02-02'),\n",
      " ('https://www.sec.gov/Archives/edgar/data/1018724/000101872417000011/0001018724-17-000011-index.htm',\n",
      "  '10-K',\n",
      "  '2017-02-10'),\n",
      " ('https://www.sec.gov/Archives/edgar/data/1018724/000101872416000172/0001018724-16-000172-index.htm',\n",
      "  '10-K',\n",
      "  '2016-01-29')]\n"
     ]
    }
   ],
   "source": [
    "sec_data = {}\n",
    "for ticker, cik in cik_lookup.items():\n",
    "    sec_data[ticker] = get_sec_data(cik, '10-K')\n",
    "ticker_example = 'AMZN'\n",
    "pprint.pprint(sec_data[ticker_example][:5])"
   ]
  },
  {
   "cell_type": "code",
   "execution_count": 8,
   "metadata": {},
   "outputs": [],
   "source": [
    "from tqdm import tqdm"
   ]
  },
  {
   "cell_type": "code",
   "execution_count": 9,
   "metadata": {},
   "outputs": [
    {
     "name": "stderr",
     "output_type": "stream",
     "text": [
      "Downloading AMZN filings:: 100%|██████████| 25/25 [00:53<00:00,  2.14s/filings]\n",
      "Downloading BMY filings:: 100%|██████████| 30/30 [01:15<00:00,  2.51s/filings]\n",
      "Downloading CNP filings:: 100%|██████████| 22/22 [02:24<00:00,  6.55s/filings]\n",
      "Downloading CVX filings:: 100%|██████████| 28/28 [04:35<00:00,  9.84s/filings]\n",
      "Downloading FL filings:: 100%|██████████| 25/25 [01:20<00:00,  3.20s/filings]\n",
      "Downloading FRT filings:: 100%|██████████| 32/32 [01:10<00:00,  2.21s/filings]\n",
      "Downloading HON filings:: 100%|██████████| 28/28 [02:30<00:00,  5.36s/filings]\n"
     ]
    }
   ],
   "source": [
    "raw_filings_by_ticker = {}\n",
    "for ticker, data in sec_data.items():\n",
    "    raw_filings_by_ticker[ticker] = {}\n",
    "    for index_ref, file_type, file_date in tqdm(data, desc = 'Downloading {} filings:'.format(ticker), unit = 'filings'):\n",
    "        if file_type == '10-K':\n",
    "            valid_url = index_ref.replace('-index.htm', '.txt').replace('.txtl', '.txt')\n",
    "            raw_filings_by_ticker[ticker][file_date] = sec_api.get(valid_url)"
   ]
  },
  {
   "cell_type": "code",
   "execution_count": 10,
   "metadata": {},
   "outputs": [
    {
     "name": "stdout",
     "output_type": "stream",
     "text": [
      "<SEC-DOCUMENT>0001018724-20-000004.txt : 20200131\n",
      "<SEC-HEADER>0001018724-20-000004.hdr.sgml : 20200131\n",
      "<ACCEPTANCE-DATETIME>20200130204613\n",
      "ACCESSION NUMBER:\t\t0001018724-20-000004\n",
      "CONFORMED SUBMISSION TYPE:\t10-K\n",
      "PUBLIC DOCUMENT COUNT:\t\t109\n",
      "CONFORMED PERIOD OF REPORT:\t20191231\n",
      "FILED AS OF DATE:\t\t20200131\n",
      "DATE AS OF CHANGE:\t\t20200130\n",
      "\n",
      "FILER:\n",
      "\n",
      "\tCOMPANY DATA:\t\n",
      "\t\tCOMPANY CONFORMED NAME:\t\t\tAMAZON COM INC\n",
      "\t\tCENTRAL INDEX KEY:\t\t\t0001018724\n",
      "\t\tSTANDARD INDUSTRIAL CLASSIFICATION:\tRETAIL-CATALOG & MAIL-ORDER HOUSES [5961]\n",
      "\t\tIRS NUMBER:\t\t\t\t911646860\n",
      "\t\tSTATE OF INCORPORATION:\t\t\tDE\n",
      "\t\tFISCAL YEAR END:\t\t\t1231\n",
      "\n",
      "\tFILING VALUES:\n",
      "\t\tFORM TYPE:\t\t10-K\n",
      "\t\tSEC ACT:\t\t1934 Act\n",
      "\t\tSEC FILE NUMBER:\t000-22513\n",
      "\t\tFILM NUMBER:\t\t20562951\n",
      "\n",
      "\tBUSINESS ADDRESS:\t\n",
      "\t\tSTREET 1:\t\t410 TERRY AVENUE NORTH\n",
      "\t\tCITY:\t\t\tSEATTLE\n",
      "\t\tSTATE:\t\t\tWA\n",
      "\t\tZIP:\t\t\t98109\n",
      "\t\tBUSINESS PHONE:\t\t2062661000\n",
      "\n",
      "\tMAIL ADDRESS:\t\n",
      "\t\tSTREET 1:\t\t410 TERRY AVENUE NORTH\n",
      "\t\tCITY:\t\t\tSEATTLE\n",
      "\t\tSTATE:\t\t\tWA\n",
      "\t\tZIP:\t\t\t98109\n",
      "</SEC-HEADER>\n",
      "<DOCUMENT>\n",
      "<TYPE>10-K\n",
      "<SEQUENCE>1\n",
      "<FILENAM\n"
     ]
    }
   ],
   "source": [
    "print(next(iter(raw_filings_by_ticker[ticker_example].values()))[:1000])"
   ]
  },
  {
   "cell_type": "code",
   "execution_count": 11,
   "metadata": {},
   "outputs": [],
   "source": [
    "import re"
   ]
  },
  {
   "cell_type": "code",
   "execution_count": 12,
   "metadata": {},
   "outputs": [],
   "source": [
    "def get_documents(text):\n",
    "    extracted_docs = []\n",
    "    \n",
    "    doc_start_pattern = re.compile(r'<DOCUMENT>')\n",
    "    doc_end_pattern = re.compile(r'</DOCUMENT>')\n",
    "    \n",
    "    doc_start_is = [x.end() for x in doc_start_pattern.finditer(text)]\n",
    "    doc_end_is = [x.start() for x in doc_end_pattern.finditer(text)]\n",
    "    \n",
    "    for doc_start_i, doc_end_i in zip(doc_start_is, doc_end_is):\n",
    "        extracted_docs.append(text[doc_start_i:doc_end_i])\n",
    "        \n",
    "    return extracted_docs"
   ]
  },
  {
   "cell_type": "code",
   "execution_count": 13,
   "metadata": {},
   "outputs": [
    {
     "name": "stderr",
     "output_type": "stream",
     "text": [
      "Getting docs for ticker AMZN: 100%|██████████| 20/20 [00:00<00:00, 88.83filing/s]\n",
      "Getting docs for ticker BMY: 100%|██████████| 26/26 [00:00<00:00, 50.87filing/s]\n",
      "Getting docs for ticker CNP: 100%|██████████| 18/18 [00:00<00:00, 40.10filing/s]\n",
      "Getting docs for ticker CVX: 100%|██████████| 24/24 [00:00<00:00, 44.87filing/s]\n",
      "Getting docs for ticker FL: 100%|██████████| 19/19 [00:00<00:00, 68.19filing/s]\n",
      "Getting docs for ticker FRT: 100%|██████████| 22/22 [00:00<00:00, 66.67filing/s]\n",
      "Getting docs for ticker HON: 100%|██████████| 23/23 [00:00<00:00, 54.16filing/s]\n"
     ]
    }
   ],
   "source": [
    "filings_documents_by_ticker = {}\n",
    "for ticker, data in raw_filings_by_ticker.items():\n",
    "    filings_documents_by_ticker[ticker] = {}\n",
    "    for date, txt in tqdm(data.items(), desc = 'Getting docs for ticker {}'.format(ticker), unit = 'filing'):\n",
    "        filings_documents_by_ticker[ticker][date] = get_documents(txt)"
   ]
  },
  {
   "cell_type": "code",
   "execution_count": 14,
   "metadata": {},
   "outputs": [
    {
     "name": "stdout",
     "output_type": "stream",
     "text": [
      "Document 0 filed on 2020-01-31: \n",
      " \n",
      "<TYPE>10-K\n",
      "<SEQUENCE>1\n",
      "<FILENAME>amzn-20191231x10k.htm\n",
      "<DESCRIPTION>10-K\n",
      "<TEXT>\n",
      "<XBRL>\n",
      "<?xml version=\"1.0\" encoding=\"UTF-8\"?>\n",
      "<!--XBRL Document Created with Wdesk from Workiva-->\n",
      "<!--p:c57a17684e854b\n",
      "\n",
      "Document 1 filed on 2020-01-31: \n",
      " \n",
      "<TYPE>EX-4.6\n",
      "<SEQUENCE>2\n",
      "<FILENAME>amzn-20191231xex46.htm\n",
      "<DESCRIPTION>EXHIBIT 4.6\n",
      "<TEXT>\n",
      "<!DOCTYPE html PUBLIC \"-//W3C//DTD HTML 4.01 Transitional//EN\" \"http://www.w3.org/TR/html4/loose.dtd\">\n",
      "<html>\n",
      "\n",
      "Document 2 filed on 2020-01-31: \n",
      " \n",
      "<TYPE>EX-21.1\n",
      "<SEQUENCE>3\n",
      "<FILENAME>amzn-20191231xex211.htm\n",
      "<DESCRIPTION>EXHIBIT 21.1\n",
      "<TEXT>\n",
      "<!DOCTYPE html PUBLIC \"-//W3C//DTD HTML 4.01 Transitional//EN\" \"http://www.w3.org/TR/html4/loose.dtd\">\n",
      "<ht\n"
     ]
    }
   ],
   "source": [
    "print('\\n\\n'.join(['Document {} filed on {}: \\n {}'.format(doc_i, date, docTxt[:200]) for date, docs in filings_documents_by_ticker[ticker_example].items() for doc_i, docTxt in enumerate(docs)][:3]))"
   ]
  },
  {
   "cell_type": "code",
   "execution_count": 15,
   "metadata": {},
   "outputs": [],
   "source": [
    "def get_document_type(doc):\n",
    "    type_pattern = re.compile(r'<TYPE>[^\\n]+')\n",
    "    doc_type = type_pattern.findall(doc)[0][len('<TYPE>'):]\n",
    "    return doc_type.lower()"
   ]
  },
  {
   "cell_type": "code",
   "execution_count": 16,
   "metadata": {},
   "outputs": [],
   "source": [
    "ten_ks_by_ticker = {}\n",
    "for ticker, filingData in filings_documents_by_ticker.items():\n",
    "    ten_ks_by_ticker[ticker] = []\n",
    "    for filingDate, docs in filingData.items():\n",
    "        for doc in docs:\n",
    "            if get_document_type(doc) == '10-k':\n",
    "                ten_ks_by_ticker[ticker].append(\n",
    "                {\n",
    "                    'cik': cik_lookup[ticker],\n",
    "                    'file': doc,\n",
    "                    'filing_date': filingDate\n",
    "                }\n",
    "                )"
   ]
  },
  {
   "cell_type": "code",
   "execution_count": 17,
   "metadata": {},
   "outputs": [],
   "source": [
    "def remove_html_tags(text):\n",
    "    return BeautifulSoup(text, 'html.parser').get_text()\n",
    "\n",
    "def clean_text(text):\n",
    "    return remove_html_tags(text.lower())"
   ]
  },
  {
   "cell_type": "code",
   "execution_count": 18,
   "metadata": {},
   "outputs": [
    {
     "name": "stderr",
     "output_type": "stream",
     "text": [
      "Cleaning 10-K data for ticker AMZN: 100%|██████████| 20/20 [00:27<00:00,  1.38s/10-K]\n",
      "Cleaning 10-K data for ticker BMY: 100%|██████████| 26/26 [00:55<00:00,  2.15s/10-K]\n",
      "Cleaning 10-K data for ticker CNP: 100%|██████████| 18/18 [00:50<00:00,  2.83s/10-K]\n",
      "Cleaning 10-K data for ticker CVX: 100%|██████████| 24/24 [01:35<00:00,  3.97s/10-K]\n",
      "Cleaning 10-K data for ticker FL: 100%|██████████| 19/19 [00:21<00:00,  1.13s/10-K]\n",
      "Cleaning 10-K data for ticker FRT: 100%|██████████| 22/22 [00:41<00:00,  1.90s/10-K]\n",
      "Cleaning 10-K data for ticker HON: 100%|██████████| 23/23 [00:45<00:00,  2.00s/10-K]\n"
     ]
    }
   ],
   "source": [
    "for ticker, ten_ks in ten_ks_by_ticker.items():\n",
    "    for ten_k in tqdm(ten_ks, desc = 'Cleaning 10-K data for ticker {}'.format(ticker), unit = '10-K'):\n",
    "        ten_k['file_clean'] = clean_text(ten_k['file'])"
   ]
  },
  {
   "cell_type": "code",
   "execution_count": 19,
   "metadata": {},
   "outputs": [],
   "source": [
    "from nltk.stem import WordNetLemmatizer\n",
    "from nltk.corpus import wordnet"
   ]
  },
  {
   "cell_type": "code",
   "execution_count": 20,
   "metadata": {},
   "outputs": [],
   "source": [
    "def lemmatize_words(words):\n",
    "    lemmatizer = WordNetLemmatizer()\n",
    "    return [ lemmatizer.lemmatize(word, 'v') for word in words]"
   ]
  },
  {
   "cell_type": "code",
   "execution_count": 21,
   "metadata": {},
   "outputs": [],
   "source": [
    "word_pattern = re.compile('\\w+')"
   ]
  },
  {
   "cell_type": "code",
   "execution_count": 22,
   "metadata": {},
   "outputs": [
    {
     "name": "stderr",
     "output_type": "stream",
     "text": [
      "Lemmatize AMZN 10-k: 100%|██████████| 20/20 [00:04<00:00,  4.9710-K/s]\n",
      "Lemmatize BMY 10-k: 100%|██████████| 26/26 [00:05<00:00,  4.9810-K/s]\n",
      "Lemmatize CNP 10-k: 100%|██████████| 18/18 [00:04<00:00,  3.7610-K/s]\n",
      "Lemmatize CVX 10-k: 100%|██████████| 24/24 [00:04<00:00,  4.8510-K/s]\n",
      "Lemmatize FL 10-k: 100%|██████████| 19/19 [00:02<00:00,  8.6910-K/s]\n",
      "Lemmatize FRT 10-k: 100%|██████████| 22/22 [00:03<00:00,  6.7510-K/s]\n",
      "Lemmatize HON 10-k: 100%|██████████| 23/23 [00:03<00:00,  7.3910-K/s]\n"
     ]
    }
   ],
   "source": [
    "for ticker, ten_ks in ten_ks_by_ticker.items():\n",
    "    for ten_k in tqdm(ten_ks, desc = 'Lemmatize {} 10-k'.format(ticker), unit = '10-K'):\n",
    "        ten_k['file_lemma'] = lemmatize_words(word_pattern.findall(ten_k['file_clean']))"
   ]
  },
  {
   "cell_type": "code",
   "execution_count": 23,
   "metadata": {},
   "outputs": [],
   "source": [
    "from multiprocessing import Pool, cpu_count"
   ]
  },
  {
   "cell_type": "code",
   "execution_count": 24,
   "metadata": {},
   "outputs": [
    {
     "data": {
      "text/plain": [
       "4"
      ]
     },
     "execution_count": 24,
     "metadata": {},
     "output_type": "execute_result"
    }
   ],
   "source": [
    "cpu_count()"
   ]
  },
  {
   "cell_type": "code",
   "execution_count": 25,
   "metadata": {},
   "outputs": [],
   "source": [
    "from nltk.corpus import stopwords\n",
    "lemma_stop_english = lemmatize_words(stopwords.words('english'))"
   ]
  },
  {
   "cell_type": "code",
   "execution_count": 26,
   "metadata": {},
   "outputs": [
    {
     "name": "stderr",
     "output_type": "stream",
     "text": [
      "Remove stop words for ticker AMZN: 100%|██████████| 20/20 [00:01<00:00, 16.6610-K/s]\n",
      "Remove stop words for ticker BMY: 100%|██████████| 26/26 [00:02<00:00, 10.3810-K/s]\n",
      "Remove stop words for ticker CNP: 100%|██████████| 18/18 [00:02<00:00,  7.8510-K/s]\n",
      "Remove stop words for ticker CVX: 100%|██████████| 24/24 [00:02<00:00,  9.9210-K/s]\n",
      "Remove stop words for ticker FL: 100%|██████████| 19/19 [00:01<00:00, 18.3010-K/s]\n",
      "Remove stop words for ticker FRT: 100%|██████████| 22/22 [00:01<00:00, 13.7210-K/s]\n",
      "Remove stop words for ticker HON: 100%|██████████| 23/23 [00:01<00:00, 15.6210-K/s]\n"
     ]
    }
   ],
   "source": [
    "for ticker, ten_ks in ten_ks_by_ticker.items():\n",
    "    for ten_k in tqdm(ten_ks, desc = 'Remove stop words for ticker {}'.format(ticker), unit = '10-K'):\n",
    "        ten_k['file_lemma'] = [word for word in ten_k['file_lemma'] if word not in lemma_stop_english]"
   ]
  },
  {
   "cell_type": "markdown",
   "metadata": {},
   "source": [
    "### Now introducing sentiments and analyze term frequency in docs"
   ]
  },
  {
   "cell_type": "code",
   "execution_count": 27,
   "metadata": {},
   "outputs": [],
   "source": [
    "sentiments = ['negative', 'positive', 'uncertainty', 'litigious', 'constraining', 'interesting']\n",
    "import pandas\n",
    "sentiment_df = pandas.read_csv('LoughranMcDonald_MasterDictionary_2018.csv')"
   ]
  },
  {
   "cell_type": "code",
   "execution_count": 28,
   "metadata": {},
   "outputs": [
    {
     "data": {
      "text/html": [
       "<div>\n",
       "<style scoped>\n",
       "    .dataframe tbody tr th:only-of-type {\n",
       "        vertical-align: middle;\n",
       "    }\n",
       "\n",
       "    .dataframe tbody tr th {\n",
       "        vertical-align: top;\n",
       "    }\n",
       "\n",
       "    .dataframe thead th {\n",
       "        text-align: right;\n",
       "    }\n",
       "</style>\n",
       "<table border=\"1\" class=\"dataframe\">\n",
       "  <thead>\n",
       "    <tr style=\"text-align: right;\">\n",
       "      <th></th>\n",
       "      <th>negative</th>\n",
       "      <th>positive</th>\n",
       "      <th>uncertainty</th>\n",
       "      <th>litigious</th>\n",
       "      <th>constraining</th>\n",
       "      <th>interesting</th>\n",
       "      <th>word</th>\n",
       "    </tr>\n",
       "  </thead>\n",
       "  <tbody>\n",
       "    <tr>\n",
       "      <th>9</th>\n",
       "      <td>True</td>\n",
       "      <td>False</td>\n",
       "      <td>False</td>\n",
       "      <td>False</td>\n",
       "      <td>False</td>\n",
       "      <td>False</td>\n",
       "      <td>abandon</td>\n",
       "    </tr>\n",
       "    <tr>\n",
       "      <th>12</th>\n",
       "      <td>True</td>\n",
       "      <td>False</td>\n",
       "      <td>False</td>\n",
       "      <td>False</td>\n",
       "      <td>False</td>\n",
       "      <td>False</td>\n",
       "      <td>abandonment</td>\n",
       "    </tr>\n",
       "    <tr>\n",
       "      <th>13</th>\n",
       "      <td>True</td>\n",
       "      <td>False</td>\n",
       "      <td>False</td>\n",
       "      <td>False</td>\n",
       "      <td>False</td>\n",
       "      <td>False</td>\n",
       "      <td>abandonments</td>\n",
       "    </tr>\n",
       "  </tbody>\n",
       "</table>\n",
       "</div>"
      ],
      "text/plain": [
       "    negative  positive  uncertainty  litigious  constraining  interesting  \\\n",
       "9       True     False        False      False         False        False   \n",
       "12      True     False        False      False         False        False   \n",
       "13      True     False        False      False         False        False   \n",
       "\n",
       "            word  \n",
       "9        abandon  \n",
       "12   abandonment  \n",
       "13  abandonments  "
      ]
     },
     "execution_count": 28,
     "metadata": {},
     "output_type": "execute_result"
    }
   ],
   "source": [
    "sentiment_df.columns = [column.lower() for column in sentiment_df.columns]\n",
    "\n",
    "sentiment_df = sentiment_df[sentiments + ['word']]\n",
    "sentiment_df[sentiments] = sentiment_df[sentiments].astype(bool)\n",
    "sentiment_df = sentiment_df[(sentiment_df[sentiments]).any(1)]\n",
    "\n",
    "sentiment_df['word'] = lemmatize_words(sentiment_df['word'].str.lower())\n",
    "sentiment_df.drop_duplicates('word', inplace = True)\n",
    "\n",
    "sentiment_df.head(3)"
   ]
  },
  {
   "cell_type": "code",
   "execution_count": 29,
   "metadata": {},
   "outputs": [
    {
     "data": {
      "text/html": [
       "<div>\n",
       "<style scoped>\n",
       "    .dataframe tbody tr th:only-of-type {\n",
       "        vertical-align: middle;\n",
       "    }\n",
       "\n",
       "    .dataframe tbody tr th {\n",
       "        vertical-align: top;\n",
       "    }\n",
       "\n",
       "    .dataframe thead th {\n",
       "        text-align: right;\n",
       "    }\n",
       "</style>\n",
       "<table border=\"1\" class=\"dataframe\">\n",
       "  <thead>\n",
       "    <tr style=\"text-align: right;\">\n",
       "      <th></th>\n",
       "      <th>negative</th>\n",
       "      <th>positive</th>\n",
       "      <th>uncertainty</th>\n",
       "      <th>litigious</th>\n",
       "      <th>constraining</th>\n",
       "      <th>interesting</th>\n",
       "      <th>word</th>\n",
       "    </tr>\n",
       "  </thead>\n",
       "  <tbody>\n",
       "    <tr>\n",
       "      <th>83671</th>\n",
       "      <td>True</td>\n",
       "      <td>False</td>\n",
       "      <td>True</td>\n",
       "      <td>False</td>\n",
       "      <td>False</td>\n",
       "      <td>False</td>\n",
       "      <td>volatility</td>\n",
       "    </tr>\n",
       "  </tbody>\n",
       "</table>\n",
       "</div>"
      ],
      "text/plain": [
       "       negative  positive  uncertainty  litigious  constraining  interesting  \\\n",
       "83671      True     False         True      False         False        False   \n",
       "\n",
       "             word  \n",
       "83671  volatility  "
      ]
     },
     "execution_count": 29,
     "metadata": {},
     "output_type": "execute_result"
    }
   ],
   "source": [
    "sentiment_df[sentiment_df.uncertainty].tail(1)"
   ]
  },
  {
   "cell_type": "code",
   "execution_count": 30,
   "metadata": {},
   "outputs": [],
   "source": [
    "from sklearn.feature_extraction.text import CountVectorizer"
   ]
  },
  {
   "cell_type": "code",
   "execution_count": 31,
   "metadata": {},
   "outputs": [],
   "source": [
    "import numpy as np"
   ]
  },
  {
   "cell_type": "code",
   "execution_count": 32,
   "metadata": {},
   "outputs": [],
   "source": [
    "def get_bag_of_words(sentiment_words, docs):\n",
    "    \n",
    "    vec = CountVectorizer(vocabulary = sentiment_words)\n",
    "    vectors = vec.fit_transform(docs)\n",
    "    words_list = vec.get_feature_names()\n",
    "    \n",
    "    bag_of_words = np.zeros([len(docs), len(words_list)])\n",
    "    \n",
    "    for i in range(len(docs)):\n",
    "        bag_of_words[i] = vectors[i].toarray()[0]\n",
    "    \n",
    "    return bag_of_words.astype(int)"
   ]
  },
  {
   "cell_type": "code",
   "execution_count": 33,
   "metadata": {},
   "outputs": [],
   "source": [
    "sentiment_bow_ten_ks = {}"
   ]
  },
  {
   "cell_type": "code",
   "execution_count": 34,
   "metadata": {},
   "outputs": [],
   "source": [
    "for ticker, ten_ks in ten_ks_by_ticker.items():\n",
    "    lemma_docs = [' '.join(ten_k['file_lemma']) for ten_k in ten_ks]\n",
    "    \n",
    "    sentiment_bow_ten_ks[ticker] = {sentiment: get_bag_of_words(sentiment_df[sentiment_df[sentiment]]['word'], lemma_docs) for sentiment in sentiments}"
   ]
  },
  {
   "cell_type": "code",
   "execution_count": 35,
   "metadata": {},
   "outputs": [],
   "source": [
    "from sklearn.metrics import jaccard_similarity_score"
   ]
  },
  {
   "cell_type": "code",
   "execution_count": 36,
   "metadata": {},
   "outputs": [],
   "source": [
    "def get_jaccard_similarity(bag_of_words_matrix):\n",
    "    jaccard_similarities = []\n",
    "    bag_of_words = np.array(bag_of_words_matrix, dtype = bool)\n",
    "    \n",
    "    for i in range(len(bag_of_words) - 1):\n",
    "        u = bag_of_words[i]\n",
    "        v = bag_of_words[i+1]\n",
    "        \n",
    "        jaccard_similarities.append(jaccard_similarity_score(u, v))\n",
    "        \n",
    "    return jaccard_similarities"
   ]
  },
  {
   "cell_type": "code",
   "execution_count": 37,
   "metadata": {},
   "outputs": [],
   "source": [
    "file_dates = {ticker : [ten_k['filing_date'] for ten_k in ten_ks] for ticker, ten_ks in ten_ks_by_ticker.items()}"
   ]
  },
  {
   "cell_type": "code",
   "execution_count": 38,
   "metadata": {},
   "outputs": [
    {
     "name": "stderr",
     "output_type": "stream",
     "text": [
      "/usr/local/lib/python3.6/dist-packages/sklearn/metrics/_classification.py:664: FutureWarning: jaccard_similarity_score has been deprecated and replaced with jaccard_score. It will be removed in version 0.23. This implementation has surprising behavior for binary and multiclass classification tasks.\n",
      "  FutureWarning)\n"
     ]
    }
   ],
   "source": [
    "jaccard_similarities = {ticker : {\n",
    "    sentiment: get_jaccard_similarity(bag_of_words) for sentiment, bag_of_words in ticker_sentiment.items()\n",
    "} for ticker, ticker_sentiment in sentiment_bow_ten_ks.items()}"
   ]
  },
  {
   "cell_type": "code",
   "execution_count": 39,
   "metadata": {},
   "outputs": [
    {
     "data": {
      "image/png": "[encoded data removed]",
      "text/plain": [
       "<Figure size 720x504 with 1 Axes>"
      ]
     },
     "metadata": {
      "needs_background": "light"
     },
     "output_type": "display_data"
    }
   ],
   "source": [
    "plot_similarities([jaccard_similarities[ticker_example][sentiment] for sentiment in sentiments], file_dates[ticker_example][1:], 'Jaccard Similarities for {} Sentiment'.format(ticker_example), sentiments)"
   ]
  },
  {
   "cell_type": "markdown",
   "metadata": {},
   "source": [
    "### Introducing Term Frequency * Inverse Document Frequency"
   ]
  },
  {
   "cell_type": "code",
   "execution_count": 40,
   "metadata": {},
   "outputs": [],
   "source": [
    "from sklearn.feature_extraction.text import TfidfVectorizer"
   ]
  },
  {
   "cell_type": "code",
   "execution_count": 41,
   "metadata": {},
   "outputs": [],
   "source": [
    "def get_tfidf(sentiment_words, docs):\n",
    "    vec = TfidfVectorizer(vocabulary = sentiment_words)\n",
    "    return vec.fit_transform(docs).toarray()"
   ]
  },
  {
   "cell_type": "code",
   "execution_count": 42,
   "metadata": {},
   "outputs": [],
   "source": [
    "sentiment_tfidf_ten_ks = {}\n",
    "for ticker, ten_ks in ten_ks_by_ticker.items():\n",
    "    lemma_docs = [' '.join(ten_k['file_lemma']) for ten_k in ten_ks]\n",
    "    sentiment_tfidf_ten_ks[ticker] = {\n",
    "        sentiment: get_tfidf(sentiment_df[sentiment_df[sentiment]]['word'], lemma_docs) for sentiment in sentiments\n",
    "    }"
   ]
  },
  {
   "cell_type": "code",
   "execution_count": 43,
   "metadata": {},
   "outputs": [],
   "source": [
    "from sklearn.metrics.pairwise import cosine_similarity"
   ]
  },
  {
   "cell_type": "code",
   "execution_count": 44,
   "metadata": {},
   "outputs": [],
   "source": [
    "def get_cosine_similarity(tfidf_matrix):\n",
    "    cosine_similarities = []\n",
    "    for i in range(len(tfidf_matrix) - 1):\n",
    "        cosine_similarities.append(\n",
    "            cosine_similarity(tfidf_matrix[i].reshape(1,-1), tfidf_matrix[i+1].reshape(1, -1))[0, 0]\n",
    "        )\n",
    "    return cosine_similarities"
   ]
  },
  {
   "cell_type": "code",
   "execution_count": 45,
   "metadata": {},
   "outputs": [],
   "source": [
    "cosine_similarities = {\n",
    "    ticker : {\n",
    "        sentiment : get_cosine_similarity(tfidf_matrix)\n",
    "        for sentiment, tfidf_matrix in sentiment_values.items()\n",
    "    } for ticker, sentiment_values in sentiment_tfidf_ten_ks.items()\n",
    "}"
   ]
  },
  {
   "cell_type": "code",
   "execution_count": 47,
   "metadata": {},
   "outputs": [
    {
     "data": {
      "image/png": "[encoded data removed]",
      "text/plain": [
       "<Figure size 720x504 with 1 Axes>"
      ]
     },
     "metadata": {
      "needs_background": "light"
     },
     "output_type": "display_data"
    }
   ],
   "source": [
    "plot_similarities(\n",
    "    [cosine_similarities[ticker_example][sentiment] for sentiment in sentiments],\n",
    "    file_dates[ticker_example][1:],\n",
    "    \"Cosine Similarities for {} sentiments\".format(ticker_example),\n",
    "    sentiments,\n",
    ")"
   ]
  },
  {
   "cell_type": "code",
   "execution_count": 48,
   "metadata": {},
   "outputs": [
    {
     "name": "stdout",
     "output_type": "stream",
     "text": [
      "2020-03-27\n",
      "1994-03-18\n"
     ]
    }
   ],
   "source": [
    "from itertools import chain\n",
    "lis = list(chain.from_iterable(file_dates.values()))\n",
    "print(max(lis))\n",
    "print(min(lis))"
   ]
  },
  {
   "cell_type": "code",
   "execution_count": 69,
   "metadata": {},
   "outputs": [],
   "source": [
    "pricing = pandas.read_csv(r'/home/niubuzhi/Documents/ml/nlp/10-k/daily_yahoo_finance.csv', parse_dates = ['date'])"
   ]
  },
  {
   "cell_type": "code",
   "execution_count": 70,
   "metadata": {},
   "outputs": [
    {
     "data": {
      "text/html": [
       "<div>\n",
       "<style scoped>\n",
       "    .dataframe tbody tr th:only-of-type {\n",
       "        vertical-align: middle;\n",
       "    }\n",
       "\n",
       "    .dataframe tbody tr th {\n",
       "        vertical-align: top;\n",
       "    }\n",
       "\n",
       "    .dataframe thead th {\n",
       "        text-align: right;\n",
       "    }\n",
       "</style>\n",
       "<table border=\"1\" class=\"dataframe\">\n",
       "  <thead>\n",
       "    <tr style=\"text-align: right;\">\n",
       "      <th></th>\n",
       "      <th>date</th>\n",
       "      <th>adj_close</th>\n",
       "      <th>ticker</th>\n",
       "    </tr>\n",
       "  </thead>\n",
       "  <tbody>\n",
       "    <tr>\n",
       "      <th>0</th>\n",
       "      <td>1997-05-15</td>\n",
       "      <td>1.958333</td>\n",
       "      <td>AMZN</td>\n",
       "    </tr>\n",
       "    <tr>\n",
       "      <th>1</th>\n",
       "      <td>1997-05-16</td>\n",
       "      <td>1.729167</td>\n",
       "      <td>AMZN</td>\n",
       "    </tr>\n",
       "  </tbody>\n",
       "</table>\n",
       "</div>"
      ],
      "text/plain": [
       "        date  adj_close ticker\n",
       "0 1997-05-15   1.958333   AMZN\n",
       "1 1997-05-16   1.729167   AMZN"
      ]
     },
     "execution_count": 70,
     "metadata": {},
     "output_type": "execute_result"
    }
   ],
   "source": [
    "pricing.head(2)"
   ]
  },
  {
   "cell_type": "code",
   "execution_count": 71,
   "metadata": {},
   "outputs": [],
   "source": [
    "pricing = pricing.pivot(index = 'date', columns = 'ticker', values = 'adj_close')"
   ]
  },
  {
   "cell_type": "code",
   "execution_count": 72,
   "metadata": {},
   "outputs": [
    {
     "data": {
      "text/html": [
       "<div>\n",
       "<style scoped>\n",
       "    .dataframe tbody tr th:only-of-type {\n",
       "        vertical-align: middle;\n",
       "    }\n",
       "\n",
       "    .dataframe tbody tr th {\n",
       "        vertical-align: top;\n",
       "    }\n",
       "\n",
       "    .dataframe thead th {\n",
       "        text-align: right;\n",
       "    }\n",
       "</style>\n",
       "<table border=\"1\" class=\"dataframe\">\n",
       "  <thead>\n",
       "    <tr style=\"text-align: right;\">\n",
       "      <th>ticker</th>\n",
       "      <th>AMZN</th>\n",
       "      <th>BMY</th>\n",
       "      <th>CNP</th>\n",
       "      <th>CVX</th>\n",
       "      <th>FL</th>\n",
       "      <th>FRT</th>\n",
       "      <th>HON</th>\n",
       "    </tr>\n",
       "    <tr>\n",
       "      <th>date</th>\n",
       "      <th></th>\n",
       "      <th></th>\n",
       "      <th></th>\n",
       "      <th></th>\n",
       "      <th></th>\n",
       "      <th></th>\n",
       "      <th></th>\n",
       "    </tr>\n",
       "  </thead>\n",
       "  <tbody>\n",
       "    <tr>\n",
       "      <th>1994-03-18</th>\n",
       "      <td>NaN</td>\n",
       "      <td>3.137510</td>\n",
       "      <td>2.311723</td>\n",
       "      <td>6.385364</td>\n",
       "      <td>12.135096</td>\n",
       "      <td>7.547022</td>\n",
       "      <td>9.702696</td>\n",
       "    </tr>\n",
       "    <tr>\n",
       "      <th>1994-03-21</th>\n",
       "      <td>NaN</td>\n",
       "      <td>3.173909</td>\n",
       "      <td>2.296259</td>\n",
       "      <td>6.256280</td>\n",
       "      <td>12.058779</td>\n",
       "      <td>7.276553</td>\n",
       "      <td>9.734197</td>\n",
       "    </tr>\n",
       "    <tr>\n",
       "      <th>1994-03-22</th>\n",
       "      <td>NaN</td>\n",
       "      <td>3.093833</td>\n",
       "      <td>2.273065</td>\n",
       "      <td>6.256280</td>\n",
       "      <td>12.058779</td>\n",
       "      <td>7.413850</td>\n",
       "      <td>9.765699</td>\n",
       "    </tr>\n",
       "    <tr>\n",
       "      <th>1994-03-23</th>\n",
       "      <td>NaN</td>\n",
       "      <td>3.093833</td>\n",
       "      <td>2.280797</td>\n",
       "      <td>6.264884</td>\n",
       "      <td>11.982451</td>\n",
       "      <td>7.413850</td>\n",
       "      <td>9.860203</td>\n",
       "    </tr>\n",
       "    <tr>\n",
       "      <th>1994-03-24</th>\n",
       "      <td>NaN</td>\n",
       "      <td>3.013758</td>\n",
       "      <td>2.242139</td>\n",
       "      <td>6.239072</td>\n",
       "      <td>11.829809</td>\n",
       "      <td>7.482497</td>\n",
       "      <td>9.797200</td>\n",
       "    </tr>\n",
       "  </tbody>\n",
       "</table>\n",
       "</div>"
      ],
      "text/plain": [
       "ticker      AMZN       BMY       CNP       CVX         FL       FRT       HON\n",
       "date                                                                         \n",
       "1994-03-18   NaN  3.137510  2.311723  6.385364  12.135096  7.547022  9.702696\n",
       "1994-03-21   NaN  3.173909  2.296259  6.256280  12.058779  7.276553  9.734197\n",
       "1994-03-22   NaN  3.093833  2.273065  6.256280  12.058779  7.413850  9.765699\n",
       "1994-03-23   NaN  3.093833  2.280797  6.264884  11.982451  7.413850  9.860203\n",
       "1994-03-24   NaN  3.013758  2.242139  6.239072  11.829809  7.482497  9.797200"
      ]
     },
     "execution_count": 72,
     "metadata": {},
     "output_type": "execute_result"
    }
   ],
   "source": [
    "pricing.head()"
   ]
  },
  {
   "cell_type": "code",
   "execution_count": 125,
   "metadata": {},
   "outputs": [
    {
     "data": {
      "text/html": [
       "<div>\n",
       "<style scoped>\n",
       "    .dataframe tbody tr th:only-of-type {\n",
       "        vertical-align: middle;\n",
       "    }\n",
       "\n",
       "    .dataframe tbody tr th {\n",
       "        vertical-align: top;\n",
       "    }\n",
       "\n",
       "    .dataframe thead th {\n",
       "        text-align: right;\n",
       "    }\n",
       "</style>\n",
       "<table border=\"1\" class=\"dataframe\">\n",
       "  <thead>\n",
       "    <tr style=\"text-align: right;\">\n",
       "      <th></th>\n",
       "      <th>date</th>\n",
       "      <th>ticker</th>\n",
       "      <th>sentiment</th>\n",
       "      <th>value</th>\n",
       "    </tr>\n",
       "  </thead>\n",
       "  <tbody>\n",
       "    <tr>\n",
       "      <th>0</th>\n",
       "      <td>2019-01-02</td>\n",
       "      <td>AMZN</td>\n",
       "      <td>negative</td>\n",
       "      <td>0.974958</td>\n",
       "    </tr>\n",
       "    <tr>\n",
       "      <th>1</th>\n",
       "      <td>2018-01-02</td>\n",
       "      <td>AMZN</td>\n",
       "      <td>negative</td>\n",
       "      <td>0.973553</td>\n",
       "    </tr>\n",
       "    <tr>\n",
       "      <th>2</th>\n",
       "      <td>2017-01-02</td>\n",
       "      <td>AMZN</td>\n",
       "      <td>negative</td>\n",
       "      <td>0.959390</td>\n",
       "    </tr>\n",
       "    <tr>\n",
       "      <th>3</th>\n",
       "      <td>2016-01-04</td>\n",
       "      <td>AMZN</td>\n",
       "      <td>negative</td>\n",
       "      <td>0.981287</td>\n",
       "    </tr>\n",
       "    <tr>\n",
       "      <th>4</th>\n",
       "      <td>2015-01-02</td>\n",
       "      <td>AMZN</td>\n",
       "      <td>negative</td>\n",
       "      <td>0.959012</td>\n",
       "    </tr>\n",
       "  </tbody>\n",
       "</table>\n",
       "</div>"
      ],
      "text/plain": [
       "        date ticker sentiment     value\n",
       "0 2019-01-02   AMZN  negative  0.974958\n",
       "1 2018-01-02   AMZN  negative  0.973553\n",
       "2 2017-01-02   AMZN  negative  0.959390\n",
       "3 2016-01-04   AMZN  negative  0.981287\n",
       "4 2015-01-02   AMZN  negative  0.959012"
      ]
     },
     "execution_count": 125,
     "metadata": {},
     "output_type": "execute_result"
    }
   ],
   "source": [
    "import datetime\n",
    "dayOffset = pandas.tseries.offsets.BusinessDay(n = 1)\n",
    "cosine_similarity_df_dict = {'date' : [], 'ticker' : [], 'sentiment' : [], 'value' : []}\n",
    "for ticker, ten_k_sentiments in cosine_similarities.items():\n",
    "    for sentiment, sentiment_values in ten_k_sentiments.items():\n",
    "        for inx, sentiment_value in enumerate(sentiment_values):\n",
    "            cosine_similarity_df_dict['ticker'].append(ticker)\n",
    "            cosine_similarity_df_dict['sentiment'].append(sentiment)\n",
    "            cosine_similarity_df_dict['value'].append(sentiment_value)\n",
    "            cosine_similarity_df_dict['date'].append(file_dates[ticker][1:][inx])\n",
    "cosine_similarity_df = pandas.DataFrame(cosine_similarity_df_dict)\n",
    "cosine_similarity_df['date'] = pandas.DatetimeIndex(cosine_similarity_df['date']).year\n",
    "cosine_similarity_df['date'] = pandas.to_datetime(cosine_similarity_df['date'], format = '%Y')\n",
    "cosine_similarity_df['date'] = cosine_similarity_df['date'].apply(lambda x: (x + dayOffset))\n",
    "cosine_similarity_df.head(5)"
   ]
  },
  {
   "cell_type": "code",
   "execution_count": 126,
   "metadata": {},
   "outputs": [],
   "source": [
    "import alphalens as al"
   ]
  },
  {
   "cell_type": "code",
   "execution_count": 127,
   "metadata": {},
   "outputs": [],
   "source": [
    "def get_csv(ticker):\n",
    "    url = \"https://query1.finance.yahoo.com/v7/finance/download/{}?period1=763948800&period2=1585267200&interval=1d&events=history\".format(ticker)\n",
    "    df = pandas.read_csv(url, usecols = [0, 5])\n",
    "    df['ticker'] = [ticker] * len(df)\n",
    "    return df.rename(columns = {'Date':'date', 'Adj Close':'adj_close'})\n",
    "#df_all_pricing = pandas.concat([get_csv(ticker) for ticker in cik_lookup.keys()], ignore_index = True)\n",
    "#df_all_pricing.to_csv(r'/home/niubuzhi/Documents/ml/nlp/10-k/daily_yahoo_finance.csv', index = False)"
   ]
  },
  {
   "cell_type": "code",
   "execution_count": 128,
   "metadata": {},
   "outputs": [
    {
     "name": "stderr",
     "output_type": "stream",
     "text": [
      "/home/niubuzhi/.local/lib/python3.6/site-packages/ipykernel_launcher.py:8: FutureWarning: \n",
      "Passing list-likes to .loc or [] with any missing label will raise\n",
      "KeyError in the future, you can use .reindex() as an alternative.\n",
      "\n",
      "See the documentation here:\n",
      "https://pandas.pydata.org/pandas-docs/stable/user_guide/indexing.html#deprecate-loc-reindex-listlike\n",
      "  \n"
     ]
    },
    {
     "name": "stdout",
     "output_type": "stream",
     "text": [
      "Dropped 9.0% entries from factor data: 9.0% in forward returns computation and 0.0% in binning phase (set max_loss=0 to see potentially suppressed Exceptions).\n",
      "max_loss is 35.0%, not exceeded: OK!\n",
      "Dropped 9.0% entries from factor data: 9.0% in forward returns computation and 0.0% in binning phase (set max_loss=0 to see potentially suppressed Exceptions).\n",
      "max_loss is 35.0%, not exceeded: OK!\n",
      "Dropped 9.0% entries from factor data: 9.0% in forward returns computation and 0.0% in binning phase (set max_loss=0 to see potentially suppressed Exceptions).\n",
      "max_loss is 35.0%, not exceeded: OK!\n",
      "Dropped 9.0% entries from factor data: 9.0% in forward returns computation and 0.0% in binning phase (set max_loss=0 to see potentially suppressed Exceptions).\n",
      "max_loss is 35.0%, not exceeded: OK!\n",
      "Dropped 9.0% entries from factor data: 9.0% in forward returns computation and 0.0% in binning phase (set max_loss=0 to see potentially suppressed Exceptions).\n",
      "max_loss is 35.0%, not exceeded: OK!\n",
      "Dropped 9.0% entries from factor data: 9.0% in forward returns computation and 0.0% in binning phase (set max_loss=0 to see potentially suppressed Exceptions).\n",
      "max_loss is 35.0%, not exceeded: OK!\n"
     ]
    },
    {
     "data": {
      "text/html": [
       "<div>\n",
       "<style scoped>\n",
       "    .dataframe tbody tr th:only-of-type {\n",
       "        vertical-align: middle;\n",
       "    }\n",
       "\n",
       "    .dataframe tbody tr th {\n",
       "        vertical-align: top;\n",
       "    }\n",
       "\n",
       "    .dataframe thead th {\n",
       "        text-align: right;\n",
       "    }\n",
       "</style>\n",
       "<table border=\"1\" class=\"dataframe\">\n",
       "  <thead>\n",
       "    <tr style=\"text-align: right;\">\n",
       "      <th></th>\n",
       "      <th></th>\n",
       "      <th>1D</th>\n",
       "      <th>factor</th>\n",
       "      <th>factor_quantile</th>\n",
       "    </tr>\n",
       "    <tr>\n",
       "      <th>date</th>\n",
       "      <th>asset</th>\n",
       "      <th></th>\n",
       "      <th></th>\n",
       "      <th></th>\n",
       "    </tr>\n",
       "  </thead>\n",
       "  <tbody>\n",
       "    <tr>\n",
       "      <th rowspan=\"4\" valign=\"top\">1996-01-02</th>\n",
       "      <th>BMY</th>\n",
       "      <td>0.535156</td>\n",
       "      <td>0.906524</td>\n",
       "      <td>5</td>\n",
       "    </tr>\n",
       "    <tr>\n",
       "      <th>CVX</th>\n",
       "      <td>0.336387</td>\n",
       "      <td>0.714728</td>\n",
       "      <td>2</td>\n",
       "    </tr>\n",
       "    <tr>\n",
       "      <th>FRT</th>\n",
       "      <td>0.246014</td>\n",
       "      <td>0.616643</td>\n",
       "      <td>1</td>\n",
       "    </tr>\n",
       "    <tr>\n",
       "      <th>HON</th>\n",
       "      <td>0.408270</td>\n",
       "      <td>0.775785</td>\n",
       "      <td>4</td>\n",
       "    </tr>\n",
       "    <tr>\n",
       "      <th>1997-01-02</th>\n",
       "      <th>BMY</th>\n",
       "      <td>0.841381</td>\n",
       "      <td>0.906282</td>\n",
       "      <td>5</td>\n",
       "    </tr>\n",
       "  </tbody>\n",
       "</table>\n",
       "</div>"
      ],
      "text/plain": [
       "                        1D    factor  factor_quantile\n",
       "date       asset                                     \n",
       "1996-01-02 BMY    0.535156  0.906524                5\n",
       "           CVX    0.336387  0.714728                2\n",
       "           FRT    0.246014  0.616643                1\n",
       "           HON    0.408270  0.775785                4\n",
       "1997-01-02 BMY    0.841381  0.906282                5"
      ]
     },
     "execution_count": 128,
     "metadata": {},
     "output_type": "execute_result"
    }
   ],
   "source": [
    "factor_data = {}\n",
    "skipped_sentiments = []\n",
    "for sentiment in sentiments:\n",
    "    cs_df = cosine_similarity_df[cosine_similarity_df.sentiment == sentiment]\n",
    "    cs_df = cs_df.pivot(index = 'date', columns = 'ticker', values = 'value')\n",
    "    \n",
    "    try:\n",
    "        factor_data[sentiment] = al.utils.get_clean_factor_and_forward_returns(cs_df.stack(), pricing.loc[cs_df.index], quantiles = 5, bins = None, periods = [1])\n",
    "    except:\n",
    "        skipped_sentiments.append(sentiment)\n",
    "        \n",
    "if skipped_sentiments:\n",
    "    print('\\n Skipped the following sentiments: \\n {}'.format('\\n'.join(skipped_sentiments)))\n",
    "factor_data[sentiments[0]].head()"
   ]
  },
  {
   "cell_type": "markdown",
   "metadata": {},
   "source": [
    "### Factor returns"
   ]
  },
  {
   "cell_type": "code",
   "execution_count": 129,
   "metadata": {},
   "outputs": [
    {
     "data": {
      "text/plain": [
       "<matplotlib.axes._subplots.AxesSubplot at 0x7f3e1f3919e8>"
      ]
     },
     "execution_count": 129,
     "metadata": {},
     "output_type": "execute_result"
    },
    {
     "data": {
      "image/png": "[encoded data removed]",
      "text/plain": [
       "<Figure size 432x288 with 1 Axes>"
      ]
     },
     "metadata": {
      "needs_background": "light"
     },
     "output_type": "display_data"
    }
   ],
   "source": [
    "ls_factor_returns = pandas.DataFrame()\n",
    "for factor, data in factor_data.items():\n",
    "    ls_factor_returns[factor] = al.performance.factor_returns(data).iloc[:, 0]\n",
    "    \n",
    "(1+ls_factor_returns).cumprod().plot()"
   ]
  },
  {
   "cell_type": "markdown",
   "metadata": {},
   "source": [
    "### Quantile returns"
   ]
  },
  {
   "cell_type": "code",
   "execution_count": 130,
   "metadata": {},
   "outputs": [
    {
     "data": {
      "text/plain": [
       "array([[<matplotlib.axes._subplots.AxesSubplot object at 0x7f3e1f337fd0>,\n",
       "        <matplotlib.axes._subplots.AxesSubplot object at 0x7f3e1f342be0>,\n",
       "        <matplotlib.axes._subplots.AxesSubplot object at 0x7f3e1f34f828>],\n",
       "       [<matplotlib.axes._subplots.AxesSubplot object at 0x7f3e1f2e5320>,\n",
       "        <matplotlib.axes._subplots.AxesSubplot object at 0x7f3e1f2f12e8>,\n",
       "        <matplotlib.axes._subplots.AxesSubplot object at 0x7f3e1f2fd048>],\n",
       "       [<matplotlib.axes._subplots.AxesSubplot object at 0x7f3e1f30e6d8>,\n",
       "        <matplotlib.axes._subplots.AxesSubplot object at 0x7f3e1f29aef0>,\n",
       "        <matplotlib.axes._subplots.AxesSubplot object at 0x7f3e1f29af60>],\n",
       "       [<matplotlib.axes._subplots.AxesSubplot object at 0x7f3e1f2b7b38>,\n",
       "        <matplotlib.axes._subplots.AxesSubplot object at 0x7f3e1f2c7dd8>,\n",
       "        <matplotlib.axes._subplots.AxesSubplot object at 0x7f3e1f2d8d30>],\n",
       "       [<matplotlib.axes._subplots.AxesSubplot object at 0x7f3e1f26b4a8>,\n",
       "        <matplotlib.axes._subplots.AxesSubplot object at 0x7f3e1f27b278>,\n",
       "        <matplotlib.axes._subplots.AxesSubplot object at 0x7f3e1f28aac8>]],\n",
       "      dtype=object)"
      ]
     },
     "execution_count": 130,
     "metadata": {},
     "output_type": "execute_result"
    },
    {
     "data": {
      "image/png": "[encoded data removed]",
      "text/plain": [
       "<Figure size 1008x1008 with 15 Axes>"
      ]
     },
     "metadata": {
      "needs_background": "light"
     },
     "output_type": "display_data"
    }
   ],
   "source": [
    "qr_factor_returns = pandas.DataFrame()\n",
    "\n",
    "for factor_name, data in factor_data.items():\n",
    "    qr_factor_returns[factor_name] = al.performance.mean_return_by_quantile(data)[0].iloc[:, 0]\n",
    "    \n",
    "(1e4 * qr_factor_returns).plot.bar(\n",
    "    subplots = True,\n",
    "    sharey = True,\n",
    "    layout = (5,3),\n",
    "    figsize = (14,14),\n",
    "    legend = False\n",
    ")"
   ]
  },
  {
   "cell_type": "code",
   "execution_count": 131,
   "metadata": {},
   "outputs": [
    {
     "data": {
      "text/plain": [
       "negative        6.62\n",
       "positive        2.75\n",
       "uncertainty     2.37\n",
       "litigious       5.27\n",
       "constraining    4.20\n",
       "interesting     3.46\n",
       "dtype: float64"
      ]
     },
     "execution_count": 131,
     "metadata": {},
     "output_type": "execute_result"
    }
   ],
   "source": [
    "annulization_factor = np.sqrt(252)\n",
    "(annulization_factor * ls_factor_returns.mean() / ls_factor_returns.std()).round(2)"
   ]
  },
  {
   "cell_type": "code",
   "execution_count": null,
   "metadata": {},
   "outputs": [],
   "source": []
  }
 ],
 "metadata": {
  "kernelspec": {
   "display_name": "Python 3",
   "language": "python",
   "name": "python3"
  },
  "language_info": {
   "codemirror_mode": {
    "name": "ipython",
    "version": 3
   },
   "file_extension": ".py",
   "mimetype": "text/x-python",
   "name": "python",
   "nbconvert_exporter": "python",
   "pygments_lexer": "ipython3",
   "version": "3.6.9"
  }
 },
 "nbformat": 4,
 "nbformat_minor": 4
}
